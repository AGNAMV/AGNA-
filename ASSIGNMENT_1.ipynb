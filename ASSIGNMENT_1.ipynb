{
  "nbformat": 4,
  "nbformat_minor": 0,
  "metadata": {
    "colab": {
      "provenance": []
    },
    "kernelspec": {
      "name": "python3",
      "display_name": "Python 3"
    },
    "language_info": {
      "name": "python"
    }
  },
  "cells": [
    {
      "cell_type": "code",
      "execution_count": null,
      "metadata": {
        "colab": {
          "base_uri": "https://localhost:8080/"
        },
        "id": "SXUuAcbphlzI",
        "outputId": "776ec79d-b04c-483f-d476-62391e24b2ed"
      },
      "outputs": [
        {
          "output_type": "stream",
          "name": "stdout",
          "text": [
            "enter first number:30\n",
            "enter second number:20\n",
            "50\n"
          ]
        }
      ],
      "source": [
        "a=int(input('enter first number:'))\n",
        "b=int(input('enter second number:'))\n",
        "s=a+b\n",
        "print(s\n",
        "      )"
      ]
    },
    {
      "cell_type": "code",
      "source": [
        "a=int(input('enter first number:'))\n",
        "b=int(input('entrer second number'))\n",
        "s=a*b\n",
        "print(s)"
      ],
      "metadata": {
        "colab": {
          "base_uri": "https://localhost:8080/"
        },
        "id": "pzBh1wXbiGTJ",
        "outputId": "763bd74b-8467-4073-8dbf-6db5c3926a1c"
      },
      "execution_count": null,
      "outputs": [
        {
          "output_type": "stream",
          "name": "stdout",
          "text": [
            "enter first number:30\n",
            "entrer second number20\n",
            "600\n"
          ]
        }
      ]
    },
    {
      "cell_type": "code",
      "source": [
        "\n",
        "a=int(input('enter first number:'))\n",
        "b=int(input('enter second number:'))\n",
        "s=a/b\n",
        "r=a%b\n",
        "print(s)\n",
        "print(r)"
      ],
      "metadata": {
        "colab": {
          "base_uri": "https://localhost:8080/"
        },
        "id": "5H0drQDSizKl",
        "outputId": "078f08cd-eea3-4148-c2dd-9e17e4947f34"
      },
      "execution_count": null,
      "outputs": [
        {
          "output_type": "stream",
          "name": "stdout",
          "text": [
            "enter first number:10\n",
            "enter second number:3\n",
            "3.3333333333333335\n",
            "1\n"
          ]
        }
      ]
    },
    {
      "cell_type": "code",
      "source": [
        "a='beautiful'\n",
        "len(a)"
      ],
      "metadata": {
        "colab": {
          "base_uri": "https://localhost:8080/"
        },
        "id": "x3bTqW4ykZT0",
        "outputId": "2bbc7778-b015-4026-e344-205cfefc940d"
      },
      "execution_count": null,
      "outputs": [
        {
          "output_type": "execute_result",
          "data": {
            "text/plain": [
              "9"
            ]
          },
          "metadata": {},
          "execution_count": 14
        }
      ]
    },
    {
      "cell_type": "code",
      "source": [
        "a=input(\"Enter the string:-\")\n",
        "count=a.count('e')\n",
        "print(count)"
      ],
      "metadata": {
        "id": "68g5MtrsimEe",
        "colab": {
          "base_uri": "https://localhost:8080/"
        },
        "outputId": "d4e218b2-f6bc-4f2a-f07e-29d986f1c937"
      },
      "execution_count": null,
      "outputs": [
        {
          "output_type": "stream",
          "name": "stdout",
          "text": [
            "Enter the string:-remember\n",
            "3\n"
          ]
        }
      ]
    },
    {
      "cell_type": "code",
      "source": [
        "s=input(\"Enter the string:-\")\n",
        "r=s.upper()\n",
        "print(r)"
      ],
      "metadata": {
        "colab": {
          "base_uri": "https://localhost:8080/"
        },
        "id": "P8012ZhtlI1t",
        "outputId": "d68fb081-30b6-4d49-9c04-b412b9681ec4"
      },
      "execution_count": null,
      "outputs": [
        {
          "output_type": "stream",
          "name": "stdout",
          "text": [
            "Enter the string:-print\n",
            "PRINT\n"
          ]
        }
      ]
    },
    {
      "cell_type": "code",
      "source": [
        "r=s.lower()\n",
        "print(r)"
      ],
      "metadata": {
        "colab": {
          "base_uri": "https://localhost:8080/"
        },
        "id": "YOWE0qZQlwS9",
        "outputId": "071ccaca-f7ef-4314-f4f6-24b549d35f1b"
      },
      "execution_count": null,
      "outputs": [
        {
          "output_type": "stream",
          "name": "stdout",
          "text": [
            "print\n"
          ]
        }
      ]
    },
    {
      "cell_type": "code",
      "source": [],
      "metadata": {
        "id": "muL1mwbFl0s2"
      },
      "execution_count": null,
      "outputs": []
    }
  ]
}