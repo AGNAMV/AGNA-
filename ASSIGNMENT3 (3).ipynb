{
  "nbformat": 4,
  "nbformat_minor": 0,
  "metadata": {
    "colab": {
      "provenance": []
    },
    "kernelspec": {
      "name": "python3",
      "display_name": "Python 3"
    },
    "language_info": {
      "name": "python"
    }
  },
  "cells": [
    {
      "cell_type": "markdown",
      "source": [
        "# **Q1**"
      ],
      "metadata": {
        "id": "DvF0hnHcpX9H"
      }
    },
    {
      "cell_type": "code",
      "source": [
        "import numpy as np"
      ],
      "metadata": {
        "id": "9623KnrUpHUg"
      },
      "execution_count": null,
      "outputs": []
    },
    {
      "cell_type": "code",
      "source": [
        "arr1=np.arange(0,11)\n",
        "arr1"
      ],
      "metadata": {
        "colab": {
          "base_uri": "https://localhost:8080/"
        },
        "id": "_5y7vcdEpPgs",
        "outputId": "ac5535ba-24fa-4efa-d0a7-e127eae3a5d2"
      },
      "execution_count": null,
      "outputs": [
        {
          "output_type": "execute_result",
          "data": {
            "text/plain": [
              "array([ 0,  1,  2,  3,  4,  5,  6,  7,  8,  9, 10])"
            ]
          },
          "metadata": {},
          "execution_count": 8
        }
      ]
    },
    {
      "cell_type": "markdown",
      "source": [
        "# **Q2**"
      ],
      "metadata": {
        "id": "Cri7SP0OpwFC"
      }
    },
    {
      "cell_type": "code",
      "source": [
        "np.zeros((2,3))"
      ],
      "metadata": {
        "colab": {
          "base_uri": "https://localhost:8080/"
        },
        "id": "PVbt5jc5pe6v",
        "outputId": "0ba3dc87-1f21-4b20-b397-9de569522251"
      },
      "execution_count": null,
      "outputs": [
        {
          "output_type": "execute_result",
          "data": {
            "text/plain": [
              "array([[0., 0., 0.],\n",
              "       [0., 0., 0.]])"
            ]
          },
          "metadata": {},
          "execution_count": 9
        }
      ]
    },
    {
      "cell_type": "markdown",
      "source": [
        "# **Q3**"
      ],
      "metadata": {
        "id": "SteCdxCQqDt-"
      }
    },
    {
      "cell_type": "code",
      "source": [
        "arr2=np.arange(2,20,2)"
      ],
      "metadata": {
        "id": "mu_VyFQDp6gf"
      },
      "execution_count": null,
      "outputs": []
    },
    {
      "cell_type": "code",
      "source": [
        "arr2"
      ],
      "metadata": {
        "colab": {
          "base_uri": "https://localhost:8080/"
        },
        "id": "gew202jAqK7u",
        "outputId": "4df3f77c-39eb-4f49-8f94-0a5b6aac258b"
      },
      "execution_count": null,
      "outputs": [
        {
          "output_type": "execute_result",
          "data": {
            "text/plain": [
              "array([ 2,  4,  6,  8, 10, 12, 14, 16, 18])"
            ]
          },
          "metadata": {},
          "execution_count": 13
        }
      ]
    },
    {
      "cell_type": "markdown",
      "source": [
        "# **Q4**"
      ],
      "metadata": {
        "id": "-o-qgY-xqXZH"
      }
    },
    {
      "cell_type": "code",
      "source": [
        "arr1=np.array([1,2,3])\n",
        "arr1"
      ],
      "metadata": {
        "colab": {
          "base_uri": "https://localhost:8080/"
        },
        "id": "7rAj-4oMqVBO",
        "outputId": "23e55e1c-da49-4e52-c7c8-74859c9cd43a"
      },
      "execution_count": null,
      "outputs": [
        {
          "output_type": "execute_result",
          "data": {
            "text/plain": [
              "array([1, 2, 3])"
            ]
          },
          "metadata": {},
          "execution_count": 15
        }
      ]
    },
    {
      "cell_type": "code",
      "source": [
        "arr2=np.array([4,5,6])\n",
        "arr2"
      ],
      "metadata": {
        "colab": {
          "base_uri": "https://localhost:8080/"
        },
        "id": "GGWbtzZDqd8e",
        "outputId": "c6359f74-d4a2-48fd-83ac-7f9aa2c77daa"
      },
      "execution_count": null,
      "outputs": [
        {
          "output_type": "execute_result",
          "data": {
            "text/plain": [
              "array([4, 5, 6])"
            ]
          },
          "metadata": {},
          "execution_count": 16
        }
      ]
    },
    {
      "cell_type": "code",
      "source": [
        "arr3=arr1*arr2"
      ],
      "metadata": {
        "id": "h72fBccYqkee"
      },
      "execution_count": null,
      "outputs": []
    },
    {
      "cell_type": "code",
      "source": [
        "arr3"
      ],
      "metadata": {
        "colab": {
          "base_uri": "https://localhost:8080/"
        },
        "id": "gD9aMHpYqnOu",
        "outputId": "2b605c25-b492-46e7-e48d-b3cdd479a81b"
      },
      "execution_count": null,
      "outputs": [
        {
          "output_type": "execute_result",
          "data": {
            "text/plain": [
              "array([ 4, 10, 18])"
            ]
          },
          "metadata": {},
          "execution_count": 18
        }
      ]
    },
    {
      "cell_type": "code",
      "source": [
        "arr3=arr1+arr2\n",
        "arr3"
      ],
      "metadata": {
        "colab": {
          "base_uri": "https://localhost:8080/"
        },
        "id": "snCfbejNqtz-",
        "outputId": "cddaab13-c4bd-48aa-9d86-785ce63d970e"
      },
      "execution_count": null,
      "outputs": [
        {
          "output_type": "execute_result",
          "data": {
            "text/plain": [
              "array([5, 7, 9])"
            ]
          },
          "metadata": {},
          "execution_count": 20
        }
      ]
    },
    {
      "cell_type": "code",
      "source": [
        "arr3=arr1+arr2\n",
        "arr3\n"
      ],
      "metadata": {
        "colab": {
          "base_uri": "https://localhost:8080/"
        },
        "id": "P2CVetwIqzje",
        "outputId": "1f5769b1-073c-4c95-ebc6-2dc924f75d2b"
      },
      "execution_count": null,
      "outputs": [
        {
          "output_type": "execute_result",
          "data": {
            "text/plain": [
              "array([5, 7, 9])"
            ]
          },
          "metadata": {},
          "execution_count": 22
        }
      ]
    },
    {
      "cell_type": "code",
      "source": [
        "arr3=arr1/arr2\n",
        "arr3\n",
        "\n"
      ],
      "metadata": {
        "colab": {
          "base_uri": "https://localhost:8080/"
        },
        "id": "SD4evqx9q6ie",
        "outputId": "d1d4638b-6696-4ca5-8d19-357e34440b9f"
      },
      "execution_count": null,
      "outputs": [
        {
          "output_type": "execute_result",
          "data": {
            "text/plain": [
              "array([0.25, 0.4 , 0.5 ])"
            ]
          },
          "metadata": {},
          "execution_count": 23
        }
      ]
    },
    {
      "cell_type": "markdown",
      "source": [
        "# **Q5**"
      ],
      "metadata": {
        "id": "PaNPEunFrOSB"
      }
    },
    {
      "cell_type": "code",
      "source": [
        "arr4=np.random.rand(100)"
      ],
      "metadata": {
        "id": "SGX06SWMrN9h"
      },
      "execution_count": null,
      "outputs": []
    },
    {
      "cell_type": "code",
      "source": [
        "arr4"
      ],
      "metadata": {
        "colab": {
          "base_uri": "https://localhost:8080/"
        },
        "id": "6n6FzKQ-rlQu",
        "outputId": "81140e7e-30be-4d50-e5a3-fdd1ac6475af"
      },
      "execution_count": null,
      "outputs": [
        {
          "output_type": "execute_result",
          "data": {
            "text/plain": [
              "array([0.45905074, 0.23209494, 0.04552868, 0.94325573, 0.17473595,\n",
              "       0.48300618, 0.81055829, 0.17224799, 0.63227949, 0.04130275,\n",
              "       0.53341218, 0.22090214, 0.65159985, 0.36438848, 0.50801646,\n",
              "       0.84835496, 0.87510464, 0.09013992, 0.08732047, 0.18199924,\n",
              "       0.27656103, 0.92748614, 0.21658485, 0.51120071, 0.83284195,\n",
              "       0.49826904, 0.90761411, 0.76527447, 0.25587203, 0.0610631 ,\n",
              "       0.43438748, 0.93338306, 0.71959154, 0.87936527, 0.74973568,\n",
              "       0.30897754, 0.21709336, 0.41507529, 0.93057339, 0.25709859,\n",
              "       0.11849665, 0.85979593, 0.21233412, 0.06561339, 0.06002853,\n",
              "       0.18513502, 0.19257089, 0.49258702, 0.74328042, 0.93906504,\n",
              "       0.59957685, 0.13597459, 0.41934324, 0.76225041, 0.17963632,\n",
              "       0.93019864, 0.09780784, 0.19276358, 0.04414326, 0.85048419,\n",
              "       0.95794741, 0.64244834, 0.88891993, 0.68683272, 0.59473741,\n",
              "       0.14167122, 0.53071694, 0.06815444, 0.35446623, 0.13956461,\n",
              "       0.59893054, 0.12850047, 0.71899489, 0.75256403, 0.34434255,\n",
              "       0.68110165, 0.42735843, 0.99169844, 0.20975824, 0.04836249,\n",
              "       0.93660194, 0.19842923, 0.57463609, 0.55161299, 0.72014183,\n",
              "       0.68068549, 0.33807978, 0.28621861, 0.21847214, 0.70699677,\n",
              "       0.83794669, 0.89871929, 0.84526642, 0.29134413, 0.27665224,\n",
              "       0.70266102, 0.22323604, 0.77813284, 0.34821979, 0.54180308])"
            ]
          },
          "metadata": {},
          "execution_count": 31
        }
      ]
    },
    {
      "cell_type": "code",
      "source": [
        "arr4.mean()"
      ],
      "metadata": {
        "colab": {
          "base_uri": "https://localhost:8080/"
        },
        "id": "mRCnYzowsCne",
        "outputId": "f765a537-773d-4b4e-c292-4f8a6cd2adac"
      },
      "execution_count": null,
      "outputs": [
        {
          "output_type": "execute_result",
          "data": {
            "text/plain": [
              "0.4839736104852721"
            ]
          },
          "metadata": {},
          "execution_count": 32
        }
      ]
    },
    {
      "cell_type": "markdown",
      "source": [
        "# **Q6**"
      ],
      "metadata": {
        "id": "be_4By-PsdVW"
      }
    },
    {
      "cell_type": "code",
      "source": [
        "arr5=np.random.randint(0,20,12)"
      ],
      "metadata": {
        "id": "IfXaXZjysOa9"
      },
      "execution_count": null,
      "outputs": []
    },
    {
      "cell_type": "code",
      "source": [
        "arr5"
      ],
      "metadata": {
        "colab": {
          "base_uri": "https://localhost:8080/"
        },
        "id": "ntC6fc1vs24N",
        "outputId": "aad6a729-2a05-4d11-a6dd-a90ea3aebd02"
      },
      "execution_count": null,
      "outputs": [
        {
          "output_type": "execute_result",
          "data": {
            "text/plain": [
              "array([ 5,  7, 12,  6,  0,  1, 12, 17, 17, 17,  2, 17])"
            ]
          },
          "metadata": {},
          "execution_count": 48
        }
      ]
    },
    {
      "cell_type": "code",
      "source": [
        "arr5=np.random.randint(0,20,12).reshape(3,4)"
      ],
      "metadata": {
        "id": "ROCQ6zXAs3g9"
      },
      "execution_count": null,
      "outputs": []
    },
    {
      "cell_type": "code",
      "source": [
        "arr5"
      ],
      "metadata": {
        "colab": {
          "base_uri": "https://localhost:8080/"
        },
        "id": "NXj3I8RCuaq8",
        "outputId": "af9ae28f-8f2d-4ddb-e4a3-c0f161983519"
      },
      "execution_count": null,
      "outputs": [
        {
          "output_type": "execute_result",
          "data": {
            "text/plain": [
              "array([[ 4,  8,  9,  8],\n",
              "       [ 0, 14,  4, 19],\n",
              "       [12, 10, 11, 15]])"
            ]
          },
          "metadata": {},
          "execution_count": 50
        }
      ]
    },
    {
      "cell_type": "markdown",
      "source": [
        "# **Q7**"
      ],
      "metadata": {
        "id": "lm-8yMMTum71"
      }
    },
    {
      "cell_type": "code",
      "source": [
        "arr6=np.array([1,2,3,4,5])\n",
        "arr6"
      ],
      "metadata": {
        "colab": {
          "base_uri": "https://localhost:8080/"
        },
        "id": "BETpwnrEucFc",
        "outputId": "60e3ca78-13e4-4cc3-ac59-4aeea3167aca"
      },
      "execution_count": null,
      "outputs": [
        {
          "output_type": "execute_result",
          "data": {
            "text/plain": [
              "array([1, 2, 3, 4, 5])"
            ]
          },
          "metadata": {},
          "execution_count": 51
        }
      ]
    },
    {
      "cell_type": "code",
      "source": [
        "np.square(arr6)"
      ],
      "metadata": {
        "colab": {
          "base_uri": "https://localhost:8080/"
        },
        "id": "HVvpEa-_uwZL",
        "outputId": "8b96528e-9dd2-436e-94fc-d5c9d812fa36"
      },
      "execution_count": null,
      "outputs": [
        {
          "output_type": "execute_result",
          "data": {
            "text/plain": [
              "array([ 1,  4,  9, 16, 25])"
            ]
          },
          "metadata": {},
          "execution_count": 52
        }
      ]
    },
    {
      "cell_type": "markdown",
      "source": [
        "# **Q8**"
      ],
      "metadata": {
        "id": "ebKoJcO_vF7V"
      }
    },
    {
      "cell_type": "code",
      "source": [
        "np.eye(5,5)"
      ],
      "metadata": {
        "colab": {
          "base_uri": "https://localhost:8080/"
        },
        "id": "ndygQ62Eu-Zc",
        "outputId": "1b05111b-eed6-4453-b29a-df0df506cca9"
      },
      "execution_count": null,
      "outputs": [
        {
          "output_type": "execute_result",
          "data": {
            "text/plain": [
              "array([[1., 0., 0., 0., 0.],\n",
              "       [0., 1., 0., 0., 0.],\n",
              "       [0., 0., 1., 0., 0.],\n",
              "       [0., 0., 0., 1., 0.],\n",
              "       [0., 0., 0., 0., 1.]])"
            ]
          },
          "metadata": {},
          "execution_count": 53
        }
      ]
    },
    {
      "cell_type": "markdown",
      "source": [
        "# **Q9**\n"
      ],
      "metadata": {
        "id": "GJLfrtRwyUZL"
      }
    },
    {
      "cell_type": "code",
      "source": [
        "a=np.array([1,2,3])\n",
        "a"
      ],
      "metadata": {
        "colab": {
          "base_uri": "https://localhost:8080/"
        },
        "id": "j3c_iF6jvolN",
        "outputId": "a01d0cbc-210a-4c2d-8aed-2fc776a45c8d"
      },
      "execution_count": null,
      "outputs": [
        {
          "output_type": "execute_result",
          "data": {
            "text/plain": [
              "array([1, 2, 3])"
            ]
          },
          "metadata": {},
          "execution_count": 54
        }
      ]
    },
    {
      "cell_type": "code",
      "source": [
        "b=np.array([4,5,6])\n",
        "b"
      ],
      "metadata": {
        "colab": {
          "base_uri": "https://localhost:8080/"
        },
        "id": "G7Wiuf22vtqc",
        "outputId": "22bae7eb-5cf0-412a-c6fa-cae774fe1552"
      },
      "execution_count": null,
      "outputs": [
        {
          "output_type": "execute_result",
          "data": {
            "text/plain": [
              "array([4, 5, 6])"
            ]
          },
          "metadata": {},
          "execution_count": 55
        }
      ]
    },
    {
      "cell_type": "code",
      "source": [
        "a.dot(b)"
      ],
      "metadata": {
        "colab": {
          "base_uri": "https://localhost:8080/"
        },
        "id": "6cOHwZ-jvzD8",
        "outputId": "5272eab0-9155-4d66-bc52-14e978871ce8"
      },
      "execution_count": null,
      "outputs": [
        {
          "output_type": "execute_result",
          "data": {
            "text/plain": [
              "32"
            ]
          },
          "metadata": {},
          "execution_count": 56
        }
      ]
    },
    {
      "cell_type": "markdown",
      "source": [
        "## **Q10**"
      ],
      "metadata": {
        "id": "QD454VYpwEZU"
      }
    },
    {
      "cell_type": "code",
      "source": [
        "arr5"
      ],
      "metadata": {
        "colab": {
          "base_uri": "https://localhost:8080/"
        },
        "id": "y5OF6sqfv1w8",
        "outputId": "d68307fd-fcb9-480f-8e48-6d7470d3b0b3"
      },
      "execution_count": null,
      "outputs": [
        {
          "output_type": "execute_result",
          "data": {
            "text/plain": [
              "array([[ 4,  8,  9,  8],\n",
              "       [ 0, 14,  4, 19],\n",
              "       [12, 10, 11, 15]])"
            ]
          },
          "metadata": {},
          "execution_count": 57
        }
      ]
    },
    {
      "cell_type": "code",
      "source": [
        "arr5.argmax()"
      ],
      "metadata": {
        "colab": {
          "base_uri": "https://localhost:8080/"
        },
        "id": "1Xpa2nK5wPXM",
        "outputId": "923d8507-dcef-4baf-c9d2-8847d7366a8f"
      },
      "execution_count": null,
      "outputs": [
        {
          "output_type": "execute_result",
          "data": {
            "text/plain": [
              "7"
            ]
          },
          "metadata": {},
          "execution_count": 64
        }
      ]
    },
    {
      "cell_type": "code",
      "source": [
        "arr5.argmin()"
      ],
      "metadata": {
        "colab": {
          "base_uri": "https://localhost:8080/"
        },
        "id": "NPQz0q3dwRXf",
        "outputId": "2ab5fbfc-baed-46a0-c834-97f62915f0ca"
      },
      "execution_count": null,
      "outputs": [
        {
          "output_type": "execute_result",
          "data": {
            "text/plain": [
              "4"
            ]
          },
          "metadata": {},
          "execution_count": 65
        }
      ]
    },
    {
      "cell_type": "code",
      "source": [
        "a"
      ],
      "metadata": {
        "id": "eQPJqa6gwTcv"
      },
      "execution_count": null,
      "outputs": []
    },
    {
      "cell_type": "markdown",
      "source": [
        "# **Q11**\n"
      ],
      "metadata": {
        "id": "3wm6XAsBwzS9"
      }
    },
    {
      "cell_type": "code",
      "source": [
        "a=np.ones((3,3))\n",
        "a"
      ],
      "metadata": {
        "colab": {
          "base_uri": "https://localhost:8080/"
        },
        "id": "HpOcfPlBwjGc",
        "outputId": "7f8a28e7-06a5-4ca4-f06f-fcf2e174402d"
      },
      "execution_count": null,
      "outputs": [
        {
          "output_type": "execute_result",
          "data": {
            "text/plain": [
              "array([[1., 1., 1.],\n",
              "       [1., 1., 1.],\n",
              "       [1., 1., 1.]])"
            ]
          },
          "metadata": {},
          "execution_count": 70
        }
      ]
    },
    {
      "cell_type": "code",
      "source": [
        "b=np.zeros((3,3))\n",
        "b"
      ],
      "metadata": {
        "colab": {
          "base_uri": "https://localhost:8080/"
        },
        "id": "7w5MqHNxxaEL",
        "outputId": "d923abd2-0744-495b-a62c-7f00207c4cf7"
      },
      "execution_count": null,
      "outputs": [
        {
          "output_type": "execute_result",
          "data": {
            "text/plain": [
              "array([[0., 0., 0.],\n",
              "       [0., 0., 0.],\n",
              "       [0., 0., 0.]])"
            ]
          },
          "metadata": {},
          "execution_count": 71
        }
      ]
    },
    {
      "cell_type": "code",
      "source": [
        "np.concatenate([a,b])"
      ],
      "metadata": {
        "colab": {
          "base_uri": "https://localhost:8080/"
        },
        "id": "fmEcHiJ-xwyK",
        "outputId": "b6394853-6a88-48e2-b83c-886e3aa9428b"
      },
      "execution_count": null,
      "outputs": [
        {
          "output_type": "execute_result",
          "data": {
            "text/plain": [
              "array([[1., 1., 1.],\n",
              "       [1., 1., 1.],\n",
              "       [1., 1., 1.],\n",
              "       [0., 0., 0.],\n",
              "       [0., 0., 0.],\n",
              "       [0., 0., 0.]])"
            ]
          },
          "metadata": {},
          "execution_count": 74
        }
      ]
    },
    {
      "cell_type": "code",
      "source": [
        "np.concatenate([a,b],axis=1)"
      ],
      "metadata": {
        "colab": {
          "base_uri": "https://localhost:8080/"
        },
        "id": "49mcLW7tx41L",
        "outputId": "a015e8ac-049a-42b5-9049-dcb04adf87d5"
      },
      "execution_count": null,
      "outputs": [
        {
          "output_type": "execute_result",
          "data": {
            "text/plain": [
              "array([[1., 1., 1., 0., 0., 0.],\n",
              "       [1., 1., 1., 0., 0., 0.],\n",
              "       [1., 1., 1., 0., 0., 0.]])"
            ]
          },
          "metadata": {},
          "execution_count": 75
        }
      ]
    },
    {
      "cell_type": "markdown",
      "source": [
        "# **Q12**"
      ],
      "metadata": {
        "id": "ngKC3fV-NKzs"
      }
    },
    {
      "cell_type": "code",
      "source": [
        "import numpy as np\n",
        "arr=np.arange(1,17).reshape(4,4)\n",
        "print(arr)\n",
        "print(\"sum of each colomn is\",np.sum(arr,axis=0))\n",
        "print(\"sum of each row is\",np.sum(arr,axis=1))"
      ],
      "metadata": {
        "id": "MGNnDInlyL5r",
        "colab": {
          "base_uri": "https://localhost:8080/"
        },
        "outputId": "2dd4f18c-fe4f-4d2e-e474-36d26cd100f0"
      },
      "execution_count": 4,
      "outputs": [
        {
          "output_type": "stream",
          "name": "stdout",
          "text": [
            "[[ 1  2  3  4]\n",
            " [ 5  6  7  8]\n",
            " [ 9 10 11 12]\n",
            " [13 14 15 16]]\n",
            "sum of each colomn is [28 32 36 40]\n",
            "sum of each row is [10 26 42 58]\n"
          ]
        }
      ]
    },
    {
      "cell_type": "markdown",
      "source": [
        "# **Q13**"
      ],
      "metadata": {
        "id": "w480ng-FOH_d"
      }
    },
    {
      "cell_type": "code",
      "source": [
        "a=np.array([[4,9],[5,8],[1,7]])\n",
        "b=np.array([[3,9],[5,2],[6,7]])\n",
        "c=np.intersect1d(a,b)\n",
        "print('The common elements betweena nad b are',c)"
      ],
      "metadata": {
        "colab": {
          "base_uri": "https://localhost:8080/"
        },
        "id": "fCU2Nkc2OKR6",
        "outputId": "89eec451-0e33-4ce5-ba71-cb9d7a701c95"
      },
      "execution_count": 7,
      "outputs": [
        {
          "output_type": "stream",
          "name": "stdout",
          "text": [
            "The common elements betweena nad b are [5 7 9]\n"
          ]
        }
      ]
    },
    {
      "cell_type": "markdown",
      "source": [
        "# **Q14**"
      ],
      "metadata": {
        "id": "sedAHbjsPJ75"
      }
    },
    {
      "cell_type": "code",
      "source": [
        "x=np.array([1,2,3,-4,-5,-6])\n",
        "x[x<0]=0\n",
        "x"
      ],
      "metadata": {
        "colab": {
          "base_uri": "https://localhost:8080/"
        },
        "id": "B98dOYt7NwWh",
        "outputId": "a09fb3ff-ebc0-4ac0-e035-b1751d6314c3"
      },
      "execution_count": 8,
      "outputs": [
        {
          "output_type": "execute_result",
          "data": {
            "text/plain": [
              "array([1, 2, 3, 0, 0, 0])"
            ]
          },
          "metadata": {},
          "execution_count": 8
        }
      ]
    },
    {
      "cell_type": "markdown",
      "source": [
        "# **Q15**"
      ],
      "metadata": {
        "id": "BsWBxSYvPZO1"
      }
    },
    {
      "cell_type": "code",
      "source": [
        "arr1=np.random.randint(1,101,100)\n",
        "arr1.sort()\n",
        "arr1"
      ],
      "metadata": {
        "colab": {
          "base_uri": "https://localhost:8080/"
        },
        "id": "7OXi1iWVPXLl",
        "outputId": "6a73c878-e1a3-4fc9-cbce-72ec54c23b3a"
      },
      "execution_count": 10,
      "outputs": [
        {
          "output_type": "execute_result",
          "data": {
            "text/plain": [
              "array([  2,   2,   2,   2,   3,   3,   4,   5,   6,   7,   7,   9,   9,\n",
              "         9,  10,  11,  11,  12,  12,  12,  13,  14,  17,  20,  22,  23,\n",
              "        24,  24,  24,  25,  25,  26,  27,  28,  29,  31,  32,  33,  34,\n",
              "        35,  37,  39,  40,  41,  41,  43,  43,  47,  47,  48,  48,  49,\n",
              "        50,  50,  53,  54,  56,  56,  56,  57,  57,  59,  60,  62,  62,\n",
              "        63,  63,  66,  67,  68,  68,  69,  69,  69,  71,  72,  72,  72,\n",
              "        73,  73,  75,  75,  78,  79,  80,  80,  81,  84,  85,  85,  87,\n",
              "        88,  90,  91,  91,  94,  97,  97, 100, 100])"
            ]
          },
          "metadata": {},
          "execution_count": 10
        }
      ]
    },
    {
      "cell_type": "markdown",
      "source": [
        "# **Q16**"
      ],
      "metadata": {
        "id": "Uro8KvSCPpA9"
      }
    },
    {
      "cell_type": "code",
      "source": [
        "a=np.array([1,2,3,4,5])\n",
        "b=np.array([6,8,10,12,14])\n",
        "c=np.absolute(a-b)\n",
        "print('The element-wise absolute difference between the two arrays is',c)\n"
      ],
      "metadata": {
        "colab": {
          "base_uri": "https://localhost:8080/"
        },
        "id": "ws_omN_UPkGE",
        "outputId": "514aef11-b0b3-47b1-cda6-457f465fd887"
      },
      "execution_count": 11,
      "outputs": [
        {
          "output_type": "stream",
          "name": "stdout",
          "text": [
            "The element-wise absolute difference between the two arrays is [5 6 7 8 9]\n"
          ]
        }
      ]
    },
    {
      "cell_type": "markdown",
      "source": [
        "# **Q17**"
      ],
      "metadata": {
        "id": "H-Azy5B6Qbm9"
      }
    },
    {
      "cell_type": "code",
      "source": [
        "arr=np.array([[1,2,3],[4,5,6],[7,8,9]])\n",
        "firstrow=arr[0]\n",
        "lastcol=arr[:,[-1]]\n",
        "print('first rows is\\n',firstrow)\n",
        "print('last column is\\n',lastcol)"
      ],
      "metadata": {
        "colab": {
          "base_uri": "https://localhost:8080/"
        },
        "id": "gYQSjmTEQfXO",
        "outputId": "30db8b7b-2d49-4e6d-9863-e13324a92ade"
      },
      "execution_count": 13,
      "outputs": [
        {
          "output_type": "stream",
          "name": "stdout",
          "text": [
            "first rows is\n",
            " [1 2 3]\n",
            "last column is\n",
            " [[3]\n",
            " [6]\n",
            " [9]]\n"
          ]
        }
      ]
    },
    {
      "cell_type": "markdown",
      "source": [
        "# **Q18**"
      ],
      "metadata": {
        "id": "Q436H1nhRQ9O"
      }
    },
    {
      "cell_type": "code",
      "source": [
        "a=np.array([1,2,3,4,5])\n",
        "x=a[0:len(a)+1]\n",
        "print(x)"
      ],
      "metadata": {
        "colab": {
          "base_uri": "https://localhost:8080/"
        },
        "id": "dop0XoyKRVU3",
        "outputId": "891f1ae6-5614-47d4-f5cb-b960e52a5890"
      },
      "execution_count": 14,
      "outputs": [
        {
          "output_type": "stream",
          "name": "stdout",
          "text": [
            "[1 2 3 4 5]\n"
          ]
        }
      ]
    },
    {
      "cell_type": "markdown",
      "source": [
        "# **Q19**"
      ],
      "metadata": {
        "id": "8DqweD5URj59"
      }
    },
    {
      "cell_type": "code",
      "source": [
        "arr=np.array([[10,1,14,16,18,20],[22,24,26,28,30,32],[34,36,38,40,42,44],[46,48,50,52,54,56],[58,60,62,64,66,68],[70,72,74,76,78,80]])\n",
        "x=arr[2:4,[2,3]]\n",
        "print('original array is\\n',arr)\n",
        "print('central 2*2 elements include\\n',x)"
      ],
      "metadata": {
        "colab": {
          "base_uri": "https://localhost:8080/"
        },
        "id": "gGyOD1sHRmC1",
        "outputId": "d0db08ac-be26-4a4b-da1c-28d3720e7b31"
      },
      "execution_count": 15,
      "outputs": [
        {
          "output_type": "stream",
          "name": "stdout",
          "text": [
            "original array is\n",
            " [[10  1 14 16 18 20]\n",
            " [22 24 26 28 30 32]\n",
            " [34 36 38 40 42 44]\n",
            " [46 48 50 52 54 56]\n",
            " [58 60 62 64 66 68]\n",
            " [70 72 74 76 78 80]]\n",
            "central 2*2 elements include\n",
            " [[38 40]\n",
            " [50 52]]\n"
          ]
        }
      ]
    },
    {
      "cell_type": "markdown",
      "source": [
        "# **Q20**"
      ],
      "metadata": {
        "id": "TawCKi5FSjEG"
      }
    },
    {
      "cell_type": "code",
      "source": [
        "a=np.array([1,2,3,4,5])\n",
        "x=a[::-1]\n",
        "x"
      ],
      "metadata": {
        "colab": {
          "base_uri": "https://localhost:8080/"
        },
        "id": "8uuFENIXSoO2",
        "outputId": "940334f2-87d9-4190-d4c6-2eb98e6fd134"
      },
      "execution_count": 16,
      "outputs": [
        {
          "output_type": "execute_result",
          "data": {
            "text/plain": [
              "array([5, 4, 3, 2, 1])"
            ]
          },
          "metadata": {},
          "execution_count": 16
        }
      ]
    }
  ]
}