{
  "nbformat": 4,
  "nbformat_minor": 0,
  "metadata": {
    "colab": {
      "provenance": []
    },
    "kernelspec": {
      "name": "python3",
      "display_name": "Python 3"
    },
    "language_info": {
      "name": "python"
    }
  },
  "cells": [
    {
      "cell_type": "code",
      "execution_count": null,
      "metadata": {
        "id": "b_uQG7Dyg2Vw"
      },
      "outputs": [],
      "source": [
        "#1 AREA OF RECTANGLE"
      ]
    },
    {
      "cell_type": "code",
      "source": [
        "height=int(input(\"enter a number\"))\n",
        "width=int(input(\"enter a number\"))\n",
        "a=height*width\n",
        "print(a)"
      ],
      "metadata": {
        "colab": {
          "base_uri": "https://localhost:8080/"
        },
        "id": "Ceic5JpHhCxp",
        "outputId": "f5cf9b67-5c79-4b0a-990b-dc39544de683"
      },
      "execution_count": null,
      "outputs": [
        {
          "output_type": "stream",
          "name": "stdout",
          "text": [
            "enter a number15\n",
            "enter a number7\n",
            "105\n"
          ]
        }
      ]
    },
    {
      "cell_type": "code",
      "source": [
        "#2 sum,product,difference,quotient of two numbers"
      ],
      "metadata": {
        "id": "RSWXbUCrjjF8"
      },
      "execution_count": null,
      "outputs": []
    },
    {
      "cell_type": "code",
      "source": [
        "a=int(input(\"enter a number-\"))\n",
        "b=int(input(\"enter a number-\"))\n",
        "s=a+b\n",
        "r=a-b\n",
        "t=a*b\n",
        "f=a/b\n",
        "print(s)\n",
        "print(r)\n",
        "print(t)\n",
        "print(f)"
      ],
      "metadata": {
        "colab": {
          "base_uri": "https://localhost:8080/"
        },
        "id": "ZzHJI3rVheCw",
        "outputId": "bfc385a3-cb9c-4226-ee12-addfc286ebe6"
      },
      "execution_count": null,
      "outputs": [
        {
          "output_type": "stream",
          "name": "stdout",
          "text": [
            "enter a number-6\n",
            "enter a number-3\n",
            "9\n",
            "3\n",
            "18\n",
            "2.0\n"
          ]
        }
      ]
    },
    {
      "cell_type": "code",
      "source": [
        "#3 convert temperature from fahrenheit to celsius\n",
        "cel=float(input(\"enter a number \"))\n",
        "fer=(cel*9/5)+32\n",
        "print(fer)"
      ],
      "metadata": {
        "id": "HgZZ4d-NjkhD",
        "colab": {
          "base_uri": "https://localhost:8080/"
        },
        "outputId": "3b29d796-6b05-4eeb-c91b-d23fed9d589d"
      },
      "execution_count": null,
      "outputs": [
        {
          "output_type": "stream",
          "name": "stdout",
          "text": [
            "enter a number 89\n",
            "192.2\n"
          ]
        }
      ]
    },
    {
      "cell_type": "code",
      "source": [
        "#4 check whether the number is positive or negative\n",
        "num=int(input('enter a number-'))\n",
        "if (num>0):\n",
        "  print('number is positive')\n",
        "elif (num<0):\n",
        "  print('number is negative')"
      ],
      "metadata": {
        "id": "5OTso8vcqdKZ",
        "colab": {
          "base_uri": "https://localhost:8080/"
        },
        "outputId": "2f6c1c11-9ac2-4d8e-f8ac-55179f51a199"
      },
      "execution_count": null,
      "outputs": [
        {
          "output_type": "stream",
          "name": "stdout",
          "text": [
            "enter a number-8\n",
            "number is positive\n"
          ]
        }
      ]
    },
    {
      "cell_type": "code",
      "source": [
        "#5 determines if a year is leap year or not\n",
        "y=int(input('enter the year '))\n",
        "if (y%4==0):\n",
        "  print('it is leap year')\n",
        "elif(y%4!=0):\n",
        "  print('it is not a leap year')\n"
      ],
      "metadata": {
        "id": "ntSx11ourmL3",
        "colab": {
          "base_uri": "https://localhost:8080/"
        },
        "outputId": "e0749407-fc87-4286-dd75-67f05f9c4b9d"
      },
      "execution_count": null,
      "outputs": [
        {
          "output_type": "stream",
          "name": "stdout",
          "text": [
            "enter the year 2023\n",
            "it is not a leap year\n"
          ]
        }
      ]
    },
    {
      "cell_type": "code",
      "source": [
        "#6 categorizes a students grade\n",
        "mark=int(input('enter the mark-'))\n",
        "if(mark>90):\n",
        "  print('A')\n",
        "elif(mark>80):\n",
        "  print('B')\n",
        "elif(mark>70):\n",
        "  print('C')\n",
        "elif(mark>60):\n",
        "  print('D')\n",
        "else:\n",
        "  print('fail')"
      ],
      "metadata": {
        "colab": {
          "base_uri": "https://localhost:8080/"
        },
        "id": "GrFsQiYcugZ2",
        "outputId": "654c5b18-d7db-42ac-8362-98503bf5efe3"
      },
      "execution_count": null,
      "outputs": [
        {
          "output_type": "stream",
          "name": "stdout",
          "text": [
            "enter the mark-50\n",
            "fail\n"
          ]
        }
      ]
    },
    {
      "cell_type": "code",
      "source": [
        "#7 loop to print numbers from 10 to 1\n",
        "for num in range(10,0,-1):\n",
        "  print(num)"
      ],
      "metadata": {
        "colab": {
          "base_uri": "https://localhost:8080/"
        },
        "id": "hgp6XVkwvl-p",
        "outputId": "57410d21-f255-4bfd-e6da-a1b74db70b21"
      },
      "execution_count": null,
      "outputs": [
        {
          "output_type": "stream",
          "name": "stdout",
          "text": [
            "10\n",
            "9\n",
            "8\n",
            "7\n",
            "6\n",
            "5\n",
            "4\n",
            "3\n",
            "2\n",
            "1\n"
          ]
        }
      ]
    },
    {
      "cell_type": "code",
      "source": [
        "#8 print all even numbers from 1 to 20\n",
        "for i in range(2,22,2):\n",
        "  print(i)"
      ],
      "metadata": {
        "colab": {
          "base_uri": "https://localhost:8080/"
        },
        "id": "Ck9QQBrVv2gk",
        "outputId": "e2ddfbd1-915f-4252-a9b7-4b3e331b7d64"
      },
      "execution_count": null,
      "outputs": [
        {
          "output_type": "stream",
          "name": "stdout",
          "text": [
            "2\n",
            "4\n",
            "6\n",
            "8\n",
            "10\n",
            "12\n",
            "14\n",
            "16\n",
            "18\n",
            "20\n"
          ]
        }
      ]
    },
    {
      "cell_type": "code",
      "source": [
        "#9 multiplication table for the number\n",
        "i=int(input('enter a number'))\n",
        "for n in range(1,11):\n",
        "  print(i*n)\n"
      ],
      "metadata": {
        "colab": {
          "base_uri": "https://localhost:8080/"
        },
        "id": "aaUqgivxwMls",
        "outputId": "da77cd8a-b745-45fd-cbbd-678577396b79"
      },
      "execution_count": null,
      "outputs": [
        {
          "output_type": "stream",
          "name": "stdout",
          "text": [
            "enter a number5\n",
            "5\n",
            "10\n",
            "15\n",
            "20\n",
            "25\n",
            "30\n",
            "35\n",
            "40\n",
            "45\n",
            "50\n"
          ]
        }
      ]
    }
  ]
}